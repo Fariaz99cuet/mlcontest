{
 "cells": [
  {
   "cell_type": "code",
   "execution_count": 1,
   "id": "60bc52d2",
   "metadata": {},
   "outputs": [
    {
     "data": {
      "text/html": [
       "<div>\n",
       "<style scoped>\n",
       "    .dataframe tbody tr th:only-of-type {\n",
       "        vertical-align: middle;\n",
       "    }\n",
       "\n",
       "    .dataframe tbody tr th {\n",
       "        vertical-align: top;\n",
       "    }\n",
       "\n",
       "    .dataframe thead th {\n",
       "        text-align: right;\n",
       "    }\n",
       "</style>\n",
       "<table border=\"1\" class=\"dataframe\">\n",
       "  <thead>\n",
       "    <tr style=\"text-align: right;\">\n",
       "      <th></th>\n",
       "      <th>Id</th>\n",
       "      <th>headlines</th>\n",
       "      <th>category</th>\n",
       "    </tr>\n",
       "  </thead>\n",
       "  <tbody>\n",
       "    <tr>\n",
       "      <th>0</th>\n",
       "      <td>0</td>\n",
       "      <td>উত্তর প্রদেশে প্রিয়াংকার ইমেজ ব্যর্থ</td>\n",
       "      <td>0</td>\n",
       "    </tr>\n",
       "    <tr>\n",
       "      <th>1</th>\n",
       "      <td>1</td>\n",
       "      <td>১০০০ বিড়াল অতিথিকে নিয়ে বিয়ে করলেন কানাডিয়া...</td>\n",
       "      <td>1</td>\n",
       "    </tr>\n",
       "    <tr>\n",
       "      <th>2</th>\n",
       "      <td>2</td>\n",
       "      <td>মিসর ছেড়ে চেচনিয়ার হয়ে খেলবেন সালাহ!</td>\n",
       "      <td>0</td>\n",
       "    </tr>\n",
       "    <tr>\n",
       "      <th>3</th>\n",
       "      <td>3</td>\n",
       "      <td>আলেপ্পোয় বিমান হামলা যুদ্ধাপরাধের শামিল</td>\n",
       "      <td>0</td>\n",
       "    </tr>\n",
       "    <tr>\n",
       "      <th>4</th>\n",
       "      <td>4</td>\n",
       "      <td>সিয়াটলে চুরি হওয়া বিমানটি বিধ্বস্ত, চালক ছিলেন...</td>\n",
       "      <td>0</td>\n",
       "    </tr>\n",
       "  </tbody>\n",
       "</table>\n",
       "</div>"
      ],
      "text/plain": [
       "   Id                                          headlines  category\n",
       "0   0               উত্তর প্রদেশে প্রিয়াংকার ইমেজ ব্যর্থ         0\n",
       "1   1  ১০০০ বিড়াল অতিথিকে নিয়ে বিয়ে করলেন কানাডিয়া...         1\n",
       "2   2               মিসর ছেড়ে চেচনিয়ার হয়ে খেলবেন সালাহ!         0\n",
       "3   3            আলেপ্পোয় বিমান হামলা যুদ্ধাপরাধের শামিল         0\n",
       "4   4  সিয়াটলে চুরি হওয়া বিমানটি বিধ্বস্ত, চালক ছিলেন...         0"
      ]
     },
     "execution_count": 1,
     "metadata": {},
     "output_type": "execute_result"
    }
   ],
   "source": [
    "import pandas as pd\n",
    "df=pd.read_csv('train.csv')\n",
    "test=pd.read_csv('test.csv')\n",
    "df.head()"
   ]
  },
  {
   "cell_type": "code",
   "execution_count": 2,
   "id": "dc00e81c",
   "metadata": {},
   "outputs": [
    {
     "name": "stdout",
     "output_type": "stream",
     "text": [
      "<class 'pandas.core.frame.DataFrame'>\n",
      "RangeIndex: 48508 entries, 0 to 48507\n",
      "Data columns (total 3 columns):\n",
      " #   Column     Non-Null Count  Dtype \n",
      "---  ------     --------------  ----- \n",
      " 0   Id         48508 non-null  int64 \n",
      " 1   headlines  48505 non-null  object\n",
      " 2   category   48508 non-null  int64 \n",
      "dtypes: int64(2), object(1)\n",
      "memory usage: 1.1+ MB\n"
     ]
    }
   ],
   "source": [
    "df.info()"
   ]
  },
  {
   "cell_type": "code",
   "execution_count": 3,
   "id": "70c8fb0a",
   "metadata": {},
   "outputs": [
    {
     "data": {
      "text/plain": [
       "(48508, 3)"
      ]
     },
     "execution_count": 3,
     "metadata": {},
     "output_type": "execute_result"
    }
   ],
   "source": [
    "df.shape"
   ]
  },
  {
   "cell_type": "code",
   "execution_count": 4,
   "id": "21cf3cd0",
   "metadata": {},
   "outputs": [
    {
     "data": {
      "text/html": [
       "<div>\n",
       "<style scoped>\n",
       "    .dataframe tbody tr th:only-of-type {\n",
       "        vertical-align: middle;\n",
       "    }\n",
       "\n",
       "    .dataframe tbody tr th {\n",
       "        vertical-align: top;\n",
       "    }\n",
       "\n",
       "    .dataframe thead th {\n",
       "        text-align: right;\n",
       "    }\n",
       "</style>\n",
       "<table border=\"1\" class=\"dataframe\">\n",
       "  <thead>\n",
       "    <tr style=\"text-align: right;\">\n",
       "      <th></th>\n",
       "      <th>Id</th>\n",
       "      <th>headlines</th>\n",
       "    </tr>\n",
       "  </thead>\n",
       "  <tbody>\n",
       "    <tr>\n",
       "      <th>0</th>\n",
       "      <td>0</td>\n",
       "      <td>মেসি-রোনাল্ডোর দিন শেষ, ব্যালন ডিঅর পাচ্ছেন মড...</td>\n",
       "    </tr>\n",
       "    <tr>\n",
       "      <th>1</th>\n",
       "      <td>1</td>\n",
       "      <td>রানি মুখার্জির ফেরা নিশ্চিত হল</td>\n",
       "    </tr>\n",
       "    <tr>\n",
       "      <th>2</th>\n",
       "      <td>2</td>\n",
       "      <td>মোদি মিথ্যাবাদী : গগৈ</td>\n",
       "    </tr>\n",
       "    <tr>\n",
       "      <th>3</th>\n",
       "      <td>3</td>\n",
       "      <td>সন্ত্রাস, দুর্নীতিতে জড়িত কাউকে ছাড় দেয়া হবে ন...</td>\n",
       "    </tr>\n",
       "    <tr>\n",
       "      <th>4</th>\n",
       "      <td>4</td>\n",
       "      <td>আবারো শেষের নায়ক রামোস</td>\n",
       "    </tr>\n",
       "    <tr>\n",
       "      <th>...</th>\n",
       "      <td>...</td>\n",
       "      <td>...</td>\n",
       "    </tr>\n",
       "    <tr>\n",
       "      <th>12122</th>\n",
       "      <td>12122</td>\n",
       "      <td>প্রথম ক্ষেপণাস্ত্র সজ্জিত সাবমেরিন উন্মোচন ইরানের</td>\n",
       "    </tr>\n",
       "    <tr>\n",
       "      <th>12123</th>\n",
       "      <td>12123</td>\n",
       "      <td>তলিয়ে গেছে নগরী</td>\n",
       "    </tr>\n",
       "    <tr>\n",
       "      <th>12124</th>\n",
       "      <td>12124</td>\n",
       "      <td>নাসায় কর্মরত ১৭-র বিস্ময় বালক</td>\n",
       "    </tr>\n",
       "    <tr>\n",
       "      <th>12125</th>\n",
       "      <td>12125</td>\n",
       "      <td>বিএনপি-জামায়াতের ষড়যন্ত্রেই কারণে গণহত্যার আন্...</td>\n",
       "    </tr>\n",
       "    <tr>\n",
       "      <th>12126</th>\n",
       "      <td>12126</td>\n",
       "      <td>এমপি মনোনয়নপ্রত্যাশীদের শোডাউন</td>\n",
       "    </tr>\n",
       "  </tbody>\n",
       "</table>\n",
       "<p>12127 rows × 2 columns</p>\n",
       "</div>"
      ],
      "text/plain": [
       "          Id                                          headlines\n",
       "0          0  মেসি-রোনাল্ডোর দিন শেষ, ব্যালন ডিঅর পাচ্ছেন মড...\n",
       "1          1                     রানি মুখার্জির ফেরা নিশ্চিত হল\n",
       "2          2                              মোদি মিথ্যাবাদী : গগৈ\n",
       "3          3  সন্ত্রাস, দুর্নীতিতে জড়িত কাউকে ছাড় দেয়া হবে ন...\n",
       "4          4                             আবারো শেষের নায়ক রামোস\n",
       "...      ...                                                ...\n",
       "12122  12122  প্রথম ক্ষেপণাস্ত্র সজ্জিত সাবমেরিন উন্মোচন ইরানের\n",
       "12123  12123                                    তলিয়ে গেছে নগরী\n",
       "12124  12124                      নাসায় কর্মরত ১৭-র বিস্ময় বালক\n",
       "12125  12125  বিএনপি-জামায়াতের ষড়যন্ত্রেই কারণে গণহত্যার আন্...\n",
       "12126  12126                     এমপি মনোনয়নপ্রত্যাশীদের শোডাউন\n",
       "\n",
       "[12127 rows x 2 columns]"
      ]
     },
     "execution_count": 4,
     "metadata": {},
     "output_type": "execute_result"
    }
   ],
   "source": [
    "test"
   ]
  },
  {
   "cell_type": "code",
   "execution_count": null,
   "id": "c3829b8a",
   "metadata": {},
   "outputs": [],
   "source": []
  },
  {
   "cell_type": "markdown",
   "id": "51f84d0f",
   "metadata": {},
   "source": [
    "# checking duplicate values\n"
   ]
  },
  {
   "cell_type": "code",
   "execution_count": 5,
   "id": "c80cdbbc",
   "metadata": {},
   "outputs": [
    {
     "data": {
      "text/plain": [
       "1372"
      ]
     },
     "execution_count": 5,
     "metadata": {},
     "output_type": "execute_result"
    }
   ],
   "source": [
    "df['headlines'].duplicated().sum()"
   ]
  },
  {
   "cell_type": "code",
   "execution_count": 6,
   "id": "d72b3a04",
   "metadata": {},
   "outputs": [],
   "source": [
    "df=df.drop_duplicates(subset='headlines')"
   ]
  },
  {
   "cell_type": "code",
   "execution_count": 7,
   "id": "c1ee39b9",
   "metadata": {},
   "outputs": [
    {
     "name": "stdout",
     "output_type": "stream",
     "text": [
      "উত্তর প্রদেশে প্রিয়াংকার ইমেজ ব্যর্থ\n"
     ]
    }
   ],
   "source": [
    "labels = (df['category'])\n",
    "sentences = (df['headlines'].astype(str))\n",
    "test1=(df['Id'])\n",
    "\n",
    "print(sentences[0])"
   ]
  },
  {
   "cell_type": "code",
   "execution_count": 8,
   "id": "ec2161fa",
   "metadata": {},
   "outputs": [],
   "source": [
    "training_size=35000\n",
    "import csv\n",
    "import tensorflow as tf\n",
    "\n",
    "\n",
    "from tensorflow.keras.preprocessing.text import Tokenizer\n",
    "from tensorflow.keras.preprocessing.sequence import pad_sequences\n",
    "\n",
    "vocab_size = 50000\n",
    "embedding_dim = 300\n",
    "\n",
    "trunc_type='post'\n",
    "padding_type='post'\n",
    "oov_tok = \"<OOV>\"\n",
    "\n",
    "training_sentences = sentences[0:training_size]\n",
    "testing_sentences = sentences[training_size:]\n",
    "training_labels = labels[0:training_size]\n",
    "testing_labels = labels[training_size:]\n",
    "\n",
    "tokenizer = Tokenizer(num_words=50000, oov_token=oov_tok)\n",
    "tokenizer.fit_on_texts(training_sentences)\n",
    "\n",
    "word_index = tokenizer.word_index\n",
    "\n",
    "training_sequences = tokenizer.texts_to_sequences(training_sentences)\n",
    "max_length =max([len(i) for i in training_sequences]) \n",
    "\n",
    "training_padded = pad_sequences(training_sequences, maxlen=max_length, padding=padding_type, truncating=trunc_type)\n",
    "\n",
    "testing1_sequences=tokenizer.texts_to_sequences(test['headlines'])\n",
    "\n",
    "testing1_padded=pad_sequences(testing1_sequences, maxlen=max_length, padding=padding_type, truncating=trunc_type)\n",
    "\n",
    "testing_sequences = tokenizer.texts_to_sequences(testing_sentences)\n",
    "\n",
    "testing_padded = pad_sequences(testing_sequences, maxlen=max_length, padding=padding_type, truncating=trunc_type)"
   ]
  },
  {
   "cell_type": "code",
   "execution_count": 9,
   "id": "4c40e1a4",
   "metadata": {},
   "outputs": [
    {
     "data": {
      "text/plain": [
       "array([[23955,     1,  2394, ...,     0,     0,     0],\n",
       "       [  240,  1205,   512, ...,     0,     0,     0],\n",
       "       [  311,     1,  1971, ...,     0,     0,     0],\n",
       "       ...,\n",
       "       [   61,   154, 10203, ...,     0,     0,     0],\n",
       "       [ 2509,  2559,     1, ...,     0,     0,     0],\n",
       "       [ 9655,  3021,  2581, ...,     0,     0,     0]])"
      ]
     },
     "execution_count": 9,
     "metadata": {},
     "output_type": "execute_result"
    }
   ],
   "source": [
    "testing_padded"
   ]
  },
  {
   "cell_type": "code",
   "execution_count": 10,
   "id": "a3781c75",
   "metadata": {},
   "outputs": [],
   "source": [
    "vocab_size = len(tokenizer.word_index)"
   ]
  },
  {
   "cell_type": "code",
   "execution_count": 11,
   "id": "b78eb7a8",
   "metadata": {},
   "outputs": [
    {
     "name": "stdout",
     "output_type": "stream",
     "text": [
      "(35000, 21)\n",
      "(35000,)\n"
     ]
    }
   ],
   "source": [
    "import numpy as np\n",
    "training_padded = np.array(training_padded)\n",
    "\n",
    "training_labels = np.array(training_labels)\n",
    "\n",
    "testing_padded = np.array(testing_padded)\n",
    "\n",
    "testing_labels = np.array(testing_labels)\n",
    "\n",
    "testing1_padded=np.array(testing1_padded)\n",
    "\n",
    "print(training_padded.shape)\n",
    "print(training_labels.shape)"
   ]
  },
  {
   "cell_type": "code",
   "execution_count": 15,
   "id": "4669cb05",
   "metadata": {},
   "outputs": [],
   "source": [
    "model = tf.keras.Sequential([\n",
    "    tf.keras.layers.Embedding(vocab_size+1, embedding_dim, input_length=max_length),\n",
    "    tf.keras.layers.GlobalAveragePooling1D(),\n",
    "     tf.keras.layers.Flatten(),\n",
    "    tf.keras.layers.Dropout(0.50),\n",
    "    tf.keras.layers.Dense(64, activation='relu'),\n",
    "    tf.keras.layers.Dense(1, activation='sigmoid')\n",
    "])\n",
    "model.compile(loss='binary_crossentropy',optimizer='adam',metrics=['accuracy'])"
   ]
  },
  {
   "cell_type": "code",
   "execution_count": 16,
   "id": "a53101a1",
   "metadata": {},
   "outputs": [
    {
     "name": "stdout",
     "output_type": "stream",
     "text": [
      "Epoch 1/10\n",
      "1094/1094 - 158s - loss: 0.2681 - accuracy: 0.8986 - val_loss: 0.1945 - val_accuracy: 0.9238 - 158s/epoch - 145ms/step\n",
      "Epoch 2/10\n",
      "1094/1094 - 660s - loss: 0.1245 - accuracy: 0.9558 - val_loss: 0.1784 - val_accuracy: 0.9335 - 660s/epoch - 603ms/step\n",
      "Epoch 3/10\n",
      "1094/1094 - 162s - loss: 0.0693 - accuracy: 0.9774 - val_loss: 0.1972 - val_accuracy: 0.9298 - 162s/epoch - 148ms/step\n",
      "Epoch 4/10\n",
      "1094/1094 - 160s - loss: 0.0390 - accuracy: 0.9881 - val_loss: 0.2388 - val_accuracy: 0.9308 - 160s/epoch - 146ms/step\n",
      "Epoch 5/10\n",
      "1094/1094 - 315s - loss: 0.0247 - accuracy: 0.9926 - val_loss: 0.2637 - val_accuracy: 0.9234 - 315s/epoch - 288ms/step\n",
      "Epoch 6/10\n",
      "1094/1094 - 351s - loss: 0.0147 - accuracy: 0.9957 - val_loss: 0.3100 - val_accuracy: 0.9271 - 351s/epoch - 320ms/step\n",
      "Epoch 7/10\n",
      "1094/1094 - 164s - loss: 0.0098 - accuracy: 0.9970 - val_loss: 0.3748 - val_accuracy: 0.9183 - 164s/epoch - 150ms/step\n",
      "Epoch 8/10\n",
      "1094/1094 - 158s - loss: 0.0067 - accuracy: 0.9979 - val_loss: 0.3767 - val_accuracy: 0.9210 - 158s/epoch - 145ms/step\n",
      "Epoch 9/10\n",
      "1094/1094 - 666s - loss: 0.0049 - accuracy: 0.9985 - val_loss: 0.4609 - val_accuracy: 0.9226 - 666s/epoch - 609ms/step\n",
      "Epoch 10/10\n",
      "1094/1094 - 166s - loss: 0.0032 - accuracy: 0.9990 - val_loss: 0.4481 - val_accuracy: 0.9169 - 166s/epoch - 152ms/step\n"
     ]
    }
   ],
   "source": [
    "num_epochs = 10\n",
    "history = model.fit(training_padded, training_labels, epochs=num_epochs, validation_data=(testing_padded, testing_labels), \n",
    "                    verbose=2)"
   ]
  },
  {
   "cell_type": "code",
   "execution_count": null,
   "id": "136b7a0d",
   "metadata": {},
   "outputs": [],
   "source": []
  },
  {
   "cell_type": "code",
   "execution_count": 17,
   "id": "1db5c46d",
   "metadata": {},
   "outputs": [
    {
     "name": "stdout",
     "output_type": "stream",
     "text": [
      "379/379 [==============================] - 0s 895us/step\n",
      "Outputs shape\n",
      "(12127, 1)\n",
      "(12127,)\n"
     ]
    }
   ],
   "source": [
    "prediction=model.predict(testing1_padded)\n",
    "print('Outputs shape')    \n",
    "print(prediction.shape) # prints (n,1) but  need (n,)\n",
    "prediction=np.transpose(prediction)[0]  # transformation to get (n,)\n",
    "print(prediction.shape)  # now the shape is (n,)\n",
    "# Applying transformation to get binary values predictions with 0.5 as thresold\n",
    "prediction = list(map(lambda x: 0 if x<0.5 else 1,prediction))"
   ]
  },
  {
   "cell_type": "code",
   "execution_count": 18,
   "id": "2b28dac2",
   "metadata": {},
   "outputs": [
    {
     "data": {
      "text/html": [
       "<div>\n",
       "<style scoped>\n",
       "    .dataframe tbody tr th:only-of-type {\n",
       "        vertical-align: middle;\n",
       "    }\n",
       "\n",
       "    .dataframe tbody tr th {\n",
       "        vertical-align: top;\n",
       "    }\n",
       "\n",
       "    .dataframe thead th {\n",
       "        text-align: right;\n",
       "    }\n",
       "</style>\n",
       "<table border=\"1\" class=\"dataframe\">\n",
       "  <thead>\n",
       "    <tr style=\"text-align: right;\">\n",
       "      <th></th>\n",
       "      <th>Id</th>\n",
       "    </tr>\n",
       "  </thead>\n",
       "  <tbody>\n",
       "    <tr>\n",
       "      <th>0</th>\n",
       "      <td>0</td>\n",
       "    </tr>\n",
       "    <tr>\n",
       "      <th>1</th>\n",
       "      <td>1</td>\n",
       "    </tr>\n",
       "    <tr>\n",
       "      <th>2</th>\n",
       "      <td>2</td>\n",
       "    </tr>\n",
       "    <tr>\n",
       "      <th>3</th>\n",
       "      <td>3</td>\n",
       "    </tr>\n",
       "    <tr>\n",
       "      <th>4</th>\n",
       "      <td>4</td>\n",
       "    </tr>\n",
       "    <tr>\n",
       "      <th>...</th>\n",
       "      <td>...</td>\n",
       "    </tr>\n",
       "    <tr>\n",
       "      <th>12122</th>\n",
       "      <td>12122</td>\n",
       "    </tr>\n",
       "    <tr>\n",
       "      <th>12123</th>\n",
       "      <td>12123</td>\n",
       "    </tr>\n",
       "    <tr>\n",
       "      <th>12124</th>\n",
       "      <td>12124</td>\n",
       "    </tr>\n",
       "    <tr>\n",
       "      <th>12125</th>\n",
       "      <td>12125</td>\n",
       "    </tr>\n",
       "    <tr>\n",
       "      <th>12126</th>\n",
       "      <td>12126</td>\n",
       "    </tr>\n",
       "  </tbody>\n",
       "</table>\n",
       "<p>12127 rows × 1 columns</p>\n",
       "</div>"
      ],
      "text/plain": [
       "          Id\n",
       "0          0\n",
       "1          1\n",
       "2          2\n",
       "3          3\n",
       "4          4\n",
       "...      ...\n",
       "12122  12122\n",
       "12123  12123\n",
       "12124  12124\n",
       "12125  12125\n",
       "12126  12126\n",
       "\n",
       "[12127 rows x 1 columns]"
      ]
     },
     "execution_count": 18,
     "metadata": {},
     "output_type": "execute_result"
    }
   ],
   "source": [
    "submission=test[['Id']]\n",
    "submission"
   ]
  },
  {
   "cell_type": "code",
   "execution_count": 19,
   "id": "2e7621e3",
   "metadata": {},
   "outputs": [],
   "source": [
    "submission['category']=prediction"
   ]
  },
  {
   "cell_type": "code",
   "execution_count": 20,
   "id": "d50ad64a",
   "metadata": {},
   "outputs": [
    {
     "data": {
      "text/html": [
       "<div>\n",
       "<style scoped>\n",
       "    .dataframe tbody tr th:only-of-type {\n",
       "        vertical-align: middle;\n",
       "    }\n",
       "\n",
       "    .dataframe tbody tr th {\n",
       "        vertical-align: top;\n",
       "    }\n",
       "\n",
       "    .dataframe thead th {\n",
       "        text-align: right;\n",
       "    }\n",
       "</style>\n",
       "<table border=\"1\" class=\"dataframe\">\n",
       "  <thead>\n",
       "    <tr style=\"text-align: right;\">\n",
       "      <th></th>\n",
       "      <th>Id</th>\n",
       "      <th>category</th>\n",
       "    </tr>\n",
       "  </thead>\n",
       "  <tbody>\n",
       "    <tr>\n",
       "      <th>0</th>\n",
       "      <td>0</td>\n",
       "      <td>0</td>\n",
       "    </tr>\n",
       "    <tr>\n",
       "      <th>1</th>\n",
       "      <td>1</td>\n",
       "      <td>0</td>\n",
       "    </tr>\n",
       "    <tr>\n",
       "      <th>2</th>\n",
       "      <td>2</td>\n",
       "      <td>0</td>\n",
       "    </tr>\n",
       "    <tr>\n",
       "      <th>3</th>\n",
       "      <td>3</td>\n",
       "      <td>0</td>\n",
       "    </tr>\n",
       "    <tr>\n",
       "      <th>4</th>\n",
       "      <td>4</td>\n",
       "      <td>0</td>\n",
       "    </tr>\n",
       "    <tr>\n",
       "      <th>...</th>\n",
       "      <td>...</td>\n",
       "      <td>...</td>\n",
       "    </tr>\n",
       "    <tr>\n",
       "      <th>12122</th>\n",
       "      <td>12122</td>\n",
       "      <td>0</td>\n",
       "    </tr>\n",
       "    <tr>\n",
       "      <th>12123</th>\n",
       "      <td>12123</td>\n",
       "      <td>0</td>\n",
       "    </tr>\n",
       "    <tr>\n",
       "      <th>12124</th>\n",
       "      <td>12124</td>\n",
       "      <td>1</td>\n",
       "    </tr>\n",
       "    <tr>\n",
       "      <th>12125</th>\n",
       "      <td>12125</td>\n",
       "      <td>0</td>\n",
       "    </tr>\n",
       "    <tr>\n",
       "      <th>12126</th>\n",
       "      <td>12126</td>\n",
       "      <td>0</td>\n",
       "    </tr>\n",
       "  </tbody>\n",
       "</table>\n",
       "<p>12127 rows × 2 columns</p>\n",
       "</div>"
      ],
      "text/plain": [
       "          Id  category\n",
       "0          0         0\n",
       "1          1         0\n",
       "2          2         0\n",
       "3          3         0\n",
       "4          4         0\n",
       "...      ...       ...\n",
       "12122  12122         0\n",
       "12123  12123         0\n",
       "12124  12124         1\n",
       "12125  12125         0\n",
       "12126  12126         0\n",
       "\n",
       "[12127 rows x 2 columns]"
      ]
     },
     "execution_count": 20,
     "metadata": {},
     "output_type": "execute_result"
    }
   ],
   "source": [
    "submission"
   ]
  },
  {
   "cell_type": "code",
   "execution_count": 23,
   "id": "afacce0b",
   "metadata": {},
   "outputs": [],
   "source": [
    "submission.to_csv(\"Datalyzed_16-23.csv\",index=None)"
   ]
  },
  {
   "cell_type": "code",
   "execution_count": null,
   "id": "849c41f6",
   "metadata": {},
   "outputs": [],
   "source": []
  }
 ],
 "metadata": {
  "kernelspec": {
   "display_name": "Python 3 (ipykernel)",
   "language": "python",
   "name": "python3"
  },
  "language_info": {
   "codemirror_mode": {
    "name": "ipython",
    "version": 3
   },
   "file_extension": ".py",
   "mimetype": "text/x-python",
   "name": "python",
   "nbconvert_exporter": "python",
   "pygments_lexer": "ipython3",
   "version": "3.9.7"
  }
 },
 "nbformat": 4,
 "nbformat_minor": 5
}
